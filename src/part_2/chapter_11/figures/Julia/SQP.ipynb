{
 "cells": [
  {
   "cell_type": "code",
   "execution_count": 1,
   "metadata": {},
   "outputs": [
    {
     "data": {
      "text/plain": [
       "∇² (generic function with 1 method)"
      ]
     },
     "metadata": {},
     "output_type": "display_data"
    }
   ],
   "source": [
    "using JuMP, Ipopt, ForwardDiff, LinearAlgebra\n",
    "using Plots, LaTeXStrings\n",
    "pyplot()\n",
    "\n",
    "∇(f,x) = ForwardDiff.gradient(f,x)\n",
    "∇²(f,x) = ForwardDiff.hessian(f,x)"
   ]
  },
  {
   "cell_type": "code",
   "execution_count": 2,
   "metadata": {},
   "outputs": [
    {
     "data": {
      "text/plain": [
       "SQP (generic function with 1 method)"
      ]
     },
     "metadata": {},
     "output_type": "display_data"
    }
   ],
   "source": [
    "function SQP()\n",
    "        # Problem information\n",
    "        n = 2 # total of variables\n",
    "        m = 4 # total of ineq. constraints\n",
    "\n",
    "        f(x) =  2x[1]^2 + 2x[2]^2 - 2(x[1]*x[2]) - 4x[1] - 6x[2]\n",
    "        ∇f(x) = ∇(f,x)\n",
    "        ∇²f(x) = ∇²(f,x)\n",
    "\n",
    "        g₁(x) = x[1]^2 - x[2]   # ≦ 0\n",
    "        g₂(x) = x[1] + 5x[2] - 5 # ≦ 0\n",
    "        g₃(x) = -x[1] # ≦ 0\n",
    "        g₄(x) = -x[2] # ≦ 0\n",
    "\n",
    "        ∇g₁(x) = ∇(g₁,x)\n",
    "        ∇²g₁(x) = ∇²(g₁,x)\n",
    "        ∇g₂(x) = ∇(g₂,x)\n",
    "        ∇g₃(x) = ∇(g₃,x)\n",
    "        ∇g₄(x) = ∇(g₄,x)\n",
    "\n",
    "        L(x,u) = f(x) + u[1]*g₁(x) + u[2]*g₂(x) + u[3]*g₃(x) + u[4]*g₄(x)\n",
    "        ∇²L(x,u) = ∇²f(x) + u[1]*∇²g₁(x)  # g₂, g₃, and g₄ vanish as they are linear .\n",
    "\n",
    "# Initialisation\n",
    "\n",
    "        k = 1             # iter count\n",
    "        N = 10            # max iterations\n",
    "        ϵ = 1e-6          # tolerance\n",
    "        xᵏ = [0.5; 0.5]   # starting point\n",
    "        uᵏ = zeros(4)     # initial dual values\n",
    "        x = zeros(2, N)   # trajectory\n",
    "        x[:,k] = xᵏ\n",
    "\n",
    "        ## Main loop\n",
    "        for k = 1:N-1\n",
    "                xᵏ = x[:,k]\n",
    "                # Calculate ∇f, ∇h, and ∇L²\n",
    "                ∇fᵏ = ∇f(xᵏ)\n",
    "                ∇gᵏ = [∇g₁(xᵏ), ∇g₂(xᵏ), ∇g₃(xᵏ), ∇g₄(xᵏ)]\n",
    "                ∇L²ᵏ = ∇²L(xᵏ,uᵏ)\n",
    "                gᵏ = [g₁(xᵏ), g₂(xᵏ), g₃(xᵏ), g₄(xᵏ)]\n",
    "\n",
    "                # Direction search subproblem\n",
    "                QP = Model()\n",
    "                set_optimizer(QP, Ipopt.Optimizer)\n",
    "                set_silent(QP)\n",
    "                @variable(QP, d[1:n])\n",
    "                @objective(QP, Min, dot(∇fᵏ,d) + 0.5*(d'*∇L²ᵏ*d))\n",
    "                @constraint(QP, LinearIneq[i=1:m], dot(∇gᵏ[i],d) + gᵏ[i] <= 0)\n",
    "\n",
    "                optimize!(QP)\n",
    "\n",
    "                dᵏ = value.(d)           # obtain direction\n",
    "                x[:,k+1] = xᵏ + dᵏ       # step\n",
    "                uᵏ = dual.(LinearIneq)   # obtain dual values\n",
    "\n",
    "                if norm(x[:,k+1] - x[:,k]) < ϵ # stop condition\n",
    "                        x = x[:,1:k+1]\n",
    "                        return x\n",
    "                end\n",
    "        end\n",
    "end"
   ]
  },
  {
   "cell_type": "code",
   "execution_count": 3,
   "metadata": {},
   "outputs": [
    {
     "name": "stdout",
     "output_type": "stream",
     "text": [
      "\n",
      "******************************************************************************\n",
      "This program contains Ipopt, a library for large-scale nonlinear optimization.\n",
      " Ipopt is released as open source code under the Eclipse Public License (EPL).\n",
      "         For more information visit https://github.com/coin-or/Ipopt\n",
      "******************************************************************************\n",
      "\n"
     ]
    },
    {
     "data": {
      "text/plain": [
       "2×6 Matrix{Float64}:\n",
       " 0.5  1.04167   0.913169  0.905021  0.904988  0.904988\n",
       " 0.5  0.791667  0.817366  0.818996  0.819002  0.819002"
      ]
     },
     "metadata": {},
     "output_type": "display_data"
    }
   ],
   "source": [
    "f(x) =  2x[1]^2 + 2x[2]^2 - 2(x[1]*x[2]) - 4x[1] - 6x[2]\n",
    "x = SQP()"
   ]
  },
  {
   "cell_type": "code",
   "execution_count": 8,
   "metadata": {},
   "outputs": [
    {
     "name": "stdout",
     "output_type": "stream",
     "text": [
      "sys:1: UserWarning: The following kwargs were not used by contour: 'label'\n"
     ]
    }
   ],
   "source": [
    "## Plotting...\n",
    "n = 1000\n",
    "x1 = range(0,5,length=n)\n",
    "x2 = range(0,5,length=n)\n",
    "z = [f([x1[i],x2[j]]) for j=1:n, i=1:n]\n",
    "\n",
    "contour(x1, x2, z,\n",
    "        clims = (-10,-5))\n",
    "        #clabels = true)\n",
    "plot!(x1, x1.^2, fill=(10,0.1), color=3, label=L\"$x_1 + 5x_2 \\leq 5$\")\n",
    "plot!(x1, 1 .- (1/5)*x1, fill=(0,0.1), color=2,\n",
    "    xaxis = (L\"$x_1$\", (0,2)),\n",
    "    yaxis = (L\"$x_2$\", (0,2)),\n",
    "    aspect_ratio = :equal,\n",
    "    colorbar = false,\n",
    "    label= L\"$x_1^2 - x2 \\leq 0$\",\n",
    "    legend = true)\n",
    "\n",
    "plot!(x[1,:], x[2,:], marker = :o, color=1, label=\"Trajectory\")\n",
    "\n",
    "# First order approximation at initial point for constraint 1\n",
    "plot!(x1, -0.25 .+ x1, color=3, line = :dash, label=L\"$g(x_0) + \\nabla g(x_0)^\\top x$\") # dot(∇gᵏ[i],d) + gᵏ[i] = 0\n",
    "\n",
    "annotate!(0.5, 0.4, text(L\"$x_0$\",9,:bottom))\n",
    "\n",
    "savefig(\"SQP_example.pdf\")"
   ]
  },
  {
   "cell_type": "code",
   "execution_count": 5,
   "metadata": {},
   "outputs": [],
   "source": [
    "# n = 10\n",
    "# x1 = range(0,5,length=n)\n",
    "# x2 = range(0,5,length=n)\n",
    "# surface(x1, x2, (x,y)-> x^2-y)"
   ]
  }
 ],
 "metadata": {
  "kernelspec": {
   "display_name": "Julia 1.6.2",
   "language": "julia",
   "name": "julia-1.6"
  },
  "language_info": {
   "file_extension": ".jl",
   "mimetype": "application/julia",
   "name": "julia",
   "version": "1.6.2"
  }
 },
 "nbformat": 4,
 "nbformat_minor": 4
}
