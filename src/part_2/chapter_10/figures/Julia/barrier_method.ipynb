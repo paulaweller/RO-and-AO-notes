{
 "cells": [
  {
   "cell_type": "code",
   "execution_count": 1,
   "metadata": {},
   "outputs": [],
   "source": [
    "using  Plots\n",
    "pyplot();\n",
    "\n",
    "using ForwardDiff, LinearAlgebra"
   ]
  },
  {
   "cell_type": "code",
   "execution_count": 3,
   "metadata": {},
   "outputs": [],
   "source": [
    "# Line search\n",
    "function bisection(f,a,b)\n",
    "    l = 1e-12\n",
    "    bᵢ = b\n",
    "    aᵢ = a\n",
    "    λ = 0\n",
    "    while bᵢ - aᵢ > l\n",
    "        λ = (aᵢ + bᵢ)/2\n",
    "        ∇f= ForwardDiff.derivative(f,λ)\n",
    "        if abs(∇f) < l # equivalent to ∇f = 0\n",
    "            return λ\n",
    "        elseif ∇f > 0  # left move\n",
    "            aᵢ₊₁ = aᵢ\n",
    "            bᵢ₊₁ = λ\n",
    "        else           # move right\n",
    "            aᵢ₊₁ = λ\n",
    "            bᵢ₊₁ = bᵢ\n",
    "        end\n",
    "        aᵢ = aᵢ₊₁\n",
    "        bᵢ = bᵢ₊₁\n",
    "    end\n",
    "        return λ\n",
    "end;\n",
    "\n",
    "function newton(f, x, N = 1000; ϵ = 1e-8, λ = 1.0, a = 0.0, b = 2.0)\n",
    "    tini = time()                  # Start timer\n",
    "    ∇(f, x)  = ForwardDiff.gradient(f, x)\n",
    "    H(f, x) = ForwardDiff.hessian(f, x)\n",
    "\n",
    "    for i = 1:N\n",
    "        ∇fᵢ = ∇(f, x)               # Gradient\n",
    "        if norm(∇fᵢ) < ϵ            # Stopping condition #1\n",
    "            tend = time() - tini    # Computation time\n",
    "            return x, f(x), tend, i # Return cost, time, iterations\n",
    "        end\n",
    "        d = -H(f, x)\\∇fᵢ            # Newton direction\n",
    "        ls(λ) = f(x + λ*d)          # Line search via bisection\n",
    "        λ = bisection(ls,a,b)\n",
    "        x = x + λ*d                 # Move to a new point\n",
    "    end\n",
    "    tend = time() - tini            # Computation time\n",
    "    return x, f(x), tend, N         # Return x, f(x), time, iterations\n",
    "end;"
   ]
  },
  {
   "cell_type": "code",
   "execution_count": 9,
   "metadata": {},
   "outputs": [
    {
     "data": {
      "text/plain": [
       "barrier_method (generic function with 1 method)"
      ]
     },
     "execution_count": 9,
     "metadata": {},
     "output_type": "execute_result"
    }
   ],
   "source": [
    "# Barrier method implementation\n",
    "function barrier_method(μ, f, B, x₀, β, ϵ)\n",
    "        xᵏ =  x₀\n",
    "        traj = zeros(2,50)\n",
    "        traj[:,1] = x₀\n",
    "        k = 2\n",
    "        println(\"\\nStarting barrier method...\")\n",
    "        while (abs(μ*B(xᵏ)) > ϵ)\n",
    "            F(x) = f(x) + μ*B(x)    # barrier problem\n",
    "            xᵏ,⋅,⋅,⋅ = newton(F,xᵏ) # solver barrier prob. with Newton's\n",
    "            traj[:,k] = xᵏ          # record trajectory for plotting\n",
    "            println(\"Current point: \", round.(xᵏ, digits=5), \"/ Objective : \", round(f(xᵏ), digits=5))\n",
    "            μ = β*μ                # update μ\n",
    "            k = k + 1\n",
    "        end\n",
    "        traj = traj[:,1:k-1]\n",
    "        println(\"Barrier method converged in $k iterations.\")\n",
    "        return traj\n",
    "end"
   ]
  },
  {
   "cell_type": "code",
   "execution_count": 28,
   "metadata": {},
   "outputs": [
    {
     "name": "stdout",
     "output_type": "stream",
     "text": [
      "\n",
      "Starting barrier method...\n",
      "Current point: [0.63982, 1.93374]/ Objective : 13.84049\n",
      "Current point: [0.69688, 1.5864]/ Objective : 9.01381\n",
      "Current point: [0.75074, 1.34874]/ Objective : 6.22537\n",
      "Current point: [0.79871, 1.18918]/ Objective : 4.5778\n",
      "Current point: [0.83893, 1.08391]/ Objective : 3.58329\n",
      "Current point: [0.8707, 1.01542]/ Objective : 2.97232\n",
      "Current point: [0.8945, 0.97133]/ Objective : 2.59223\n",
      "Current point: [0.91152, 0.94314]/ Objective : 2.3539\n",
      "Current point: [0.92325, 0.92519]/ Objective : 2.2038\n",
      "Current point: [0.93111, 0.9138]/ Objective : 2.10905\n",
      "Current point: [0.93629, 0.90658]/ Objective : 2.04917\n",
      "Current point: [0.93964, 0.90201]/ Objective : 2.01131\n",
      "Current point: [0.9418, 0.89911]/ Objective : 1.98737\n",
      "Current point: [0.94318, 0.89728]/ Objective : 1.97223\n",
      "Current point: [0.94406, 0.89612]/ Objective : 1.96266\n",
      "Current point: [0.94462, 0.89539]/ Objective : 1.9566\n",
      "Current point: [0.94497, 0.89493]/ Objective : 1.95277\n",
      "Current point: [0.9452, 0.89463]/ Objective : 1.95035\n",
      "Current point: [0.94534, 0.89445]/ Objective : 1.94882\n",
      "Current point: [0.94543, 0.89433]/ Objective : 1.94785\n",
      "Current point: [0.94549, 0.89425]/ Objective : 1.94724\n",
      "Current point: [0.94552, 0.89421]/ Objective : 1.94685\n",
      "Current point: [0.94554, 0.89418]/ Objective : 1.94661\n",
      "Current point: [0.94556, 0.89416]/ Objective : 1.94645\n",
      "Current point: [0.94557, 0.89415]/ Objective : 1.94635\n",
      "Barrier method converged in 27 iterations.\n"
     ]
    }
   ],
   "source": [
    "# We will consider this problem\n",
    "f(x) = (x[1]-2)^4 + (x[1]-2x[2])^2   # min f(x)\n",
    "g(x) = x[1]^2 - x[2]                  # g(x) ≦ 0\n",
    "\n",
    "# Penalty function\n",
    "B(x) = -1/g(x)\n",
    "\n",
    "# Initial parameters\n",
    "μ = 30          # penalty term. Try different values\n",
    "β = 0.4         # amount of reduction in penalty\n",
    "ϵ = 1e-4        # tolerance\n",
    "x₀ = [0.5,1]    # initial feasible point\n",
    "\n",
    "traj = barrier_method(μ, f, B, x₀, β, ϵ);\n",
    "\n"
   ]
  },
  {
   "cell_type": "code",
   "execution_count": 25,
   "metadata": {},
   "outputs": [
    {
     "name": "stdout",
     "output_type": "stream",
     "text": [
      "\n",
      "Starting barrier method...\n",
      "Current point: [0.8282, 1.1098]/ Objective : 3.82142\n",
      "Current point: [0.84832, 1.06243]/ Objective : 3.38883\n",
      "Current point: [0.8658, 1.02524]/ Objective : 3.0583\n",
      "Current point: [0.88074, 0.99612]/ Objective : 2.80479\n",
      "Current point: [0.89332, 0.97339]/ Objective : 2.60979\n",
      "Current point: [0.90375, 0.95567]/ Objective : 2.45946\n",
      "Current point: [0.91231, 0.94188]/ Objective : 2.34339\n",
      "Current point: [0.91925, 0.93117]/ Objective : 2.25367\n",
      "Current point: [0.92484, 0.92285]/ Objective : 2.18427\n",
      "Current point: [0.92929, 0.91639]/ Objective : 2.13056\n",
      "Current point: [0.93283, 0.91138]/ Objective : 2.08898\n",
      "Current point: [0.93562, 0.9075]/ Objective : 2.05678\n",
      "Current point: [0.93781, 0.90449]/ Objective : 2.03185\n",
      "Current point: [0.93953, 0.90216]/ Objective : 2.01254\n",
      "Current point: [0.94088, 0.90035]/ Objective : 1.99758\n",
      "Current point: [0.94193, 0.89895]/ Objective : 1.98599\n",
      "Current point: [0.94274, 0.89786]/ Objective : 1.97702\n",
      "Current point: [0.94338, 0.89702]/ Objective : 1.97007\n",
      "Current point: [0.94387, 0.89637]/ Objective : 1.96469\n",
      "Current point: [0.94426, 0.89586]/ Objective : 1.96052\n",
      "Current point: [0.94456, 0.89547]/ Objective : 1.95728\n",
      "Current point: [0.94479, 0.89517]/ Objective : 1.95478\n",
      "Current point: [0.94497, 0.89493]/ Objective : 1.95284\n",
      "Current point: [0.9451, 0.89475]/ Objective : 1.95134\n",
      "Current point: [0.94521, 0.89461]/ Objective : 1.95018\n",
      "Current point: [0.9453, 0.8945]/ Objective : 1.94928\n",
      "Current point: [0.94536, 0.89442]/ Objective : 1.94858\n",
      "Current point: [0.94541, 0.89435]/ Objective : 1.94804\n",
      "Current point: [0.94545, 0.8943]/ Objective : 1.94762\n",
      "Current point: [0.94548, 0.89426]/ Objective : 1.9473\n",
      "Current point: [0.9455, 0.89423]/ Objective : 1.94705\n",
      "Current point: [0.94552, 0.89421]/ Objective : 1.94685\n",
      "Current point: [0.94553, 0.89419]/ Objective : 1.9467\n",
      "Current point: [0.94555, 0.89418]/ Objective : 1.94658\n",
      "Current point: [0.94555, 0.89416]/ Objective : 1.94649\n",
      "Current point: [0.94556, 0.89416]/ Objective : 1.94642\n",
      "Current point: [0.94557, 0.89415]/ Objective : 1.94637\n",
      "Current point: [0.94557, 0.89414]/ Objective : 1.94633\n",
      "Barrier method converged in 40 iterations.\n"
     ]
    }
   ],
   "source": [
    "\n",
    "\n",
    "μ = 1          # penalty term. Try different values\n",
    "β = 0.6         # amount of reduction in penalty\n",
    "\n",
    "traj2 = barrier_method(μ, f, B, x₀, β, ϵ);"
   ]
  },
  {
   "cell_type": "code",
   "execution_count": 32,
   "metadata": {},
   "outputs": [
    {
     "data": {
      "image/png": "[encoded data removed]",
      "text/plain": [
       "PyPlot.Figure(PyObject <Figure size 350x350 with 1 Axes>)"
      ]
     },
     "metadata": {},
     "output_type": "display_data"
    },
    {
     "name": "stderr",
     "output_type": "stream",
     "text": [
      "sys:1: UserWarning: The following kwargs were not used by contour: 'label'\n",
      "sys:1: UserWarning: The following kwargs were not used by contour: 'label'\n"
     ]
    }
   ],
   "source": [
    "# Plotting the contours of the function optimised and the trajectory\n",
    "n = 4000\n",
    "x = range(-200,stop=200,length=n);\n",
    "y = range(-200,stop=200,length=n);\n",
    "z = [f([x[i],y[j]]) for j = 1:n, i = 1:n];\n",
    "\n",
    "green = RGBA(0.0,0.605603,0.97868,1.0)\n",
    "\n",
    "# Plot function contours\n",
    "contour(x,y,z, # Change title accordingly\n",
    "        levels = [0.25, 1, 2.5 , 5, 9],\n",
    "        xaxis = (\"x₁\", (0,2)),\n",
    "        yaxis = (\"x₂\", (0,2)),\n",
    "        clims = (0,12),\n",
    "        #clabels = true,\n",
    "        legend = :bottomright,\n",
    "        size = (350, 350),\n",
    "        cbar = false,\n",
    "        aspect_ratio = :equal)\n",
    "\n",
    "# Plot feasible region\n",
    "plot!(x, x.^2,\n",
    "        fill= (10,0.1),\n",
    "        color = 1,\n",
    "        label = \"x₁² - x₂ ≤ 0\")\n",
    "# annotate!(0.25, 1.75, text(,9,:left, green))\n",
    "\n",
    "# Plot trajectory\n",
    "plot!(traj[1,:], traj[2,:], marker=:o, label=\"μ=30, β=0.4\")\n",
    "\n",
    "savefig(\"ex3-barrier-1.pdf\")\n",
    "\n",
    "plot!(traj2[1,:], traj2[2,:], marker=:o, label=\"μ=1, β=0.6\")\n",
    "\n",
    "savefig(\"ex3-barrier-2.pdf\")\n",
    "\n",
    "# annotate!([(0.5, 0.9, text(\"x₀\",9,:left,\n",
    "                # RGBA(0.2422242978521988,0.6432750931576304,0.30444865153411527,1.0) ))])"
   ]
  },
  {
   "cell_type": "code",
   "execution_count": null,
   "metadata": {},
   "outputs": [],
   "source": []
  },
  {
   "cell_type": "code",
   "execution_count": null,
   "metadata": {},
   "outputs": [],
   "source": []
  }
 ],
 "metadata": {
  "kernelspec": {
   "display_name": "Julia 1.6.2",
   "language": "julia",
   "name": "julia-1.6"
  },
  "language_info": {
   "file_extension": ".jl",
   "mimetype": "application/julia",
   "name": "julia",
   "version": "1.6.2"
  }
 },
 "nbformat": 4,
 "nbformat_minor": 4
}
